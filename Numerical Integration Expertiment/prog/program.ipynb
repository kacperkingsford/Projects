{
 "cells": [
  {
   "cell_type": "code",
   "execution_count": 18,
   "metadata": {},
   "outputs": [
    {
     "name": "stderr",
     "output_type": "stream",
     "text": [
      "┌ Info: For saving to png with the Plotly backend PlotlyBase has to be installed.\n",
      "└ @ Plots /home/kacperkingsford/.julia/packages/Plots/5ItHH/src/backends.jl:372\n"
     ]
    },
    {
     "data": {
      "text/plain": [
       "Plots.PlotlyBackend()"
      ]
     },
     "execution_count": 18,
     "metadata": {},
     "output_type": "execute_result"
    }
   ],
   "source": [
    "using QuadGK #biblioteki używane w poniższym kodzie\n",
    "using Printf\n",
    "using Plots\n",
    "plotly()"
   ]
  },
  {
   "cell_type": "code",
   "execution_count": 2,
   "metadata": {},
   "outputs": [
    {
     "data": {
      "text/plain": [
       "compositeTrapezoid (generic function with 1 method)"
      ]
     },
     "execution_count": 2,
     "metadata": {},
     "output_type": "execute_result"
    }
   ],
   "source": [
    "function compositeTrapezoid(f::Function,a::Float64,b::Float64,n::Int64) \n",
    "    t = zeros(n) #funkcja obliczająca pole metodą złożonych trapezów\n",
    "    h = (b-a)  \n",
    "    m = 1     \n",
    "    t[1] = (f(a) + f(b))*h/2\n",
    "    for i = 2:n\n",
    "        h = h/2\n",
    "        for j=0:m-1\n",
    "            t[i] = t[i] + f(a+h+j*2*h)\n",
    "        end;\n",
    "        t[i] = t[i-1]/2 + h*t[i]\n",
    "        m = 2*m\n",
    "    end\n",
    "    return t, n\n",
    "end"
   ]
  },
  {
   "cell_type": "code",
   "execution_count": 3,
   "metadata": {},
   "outputs": [
    {
     "data": {
      "text/plain": [
       "romberg (generic function with 1 method)"
      ]
     },
     "execution_count": 3,
     "metadata": {},
     "output_type": "execute_result"
    }
   ],
   "source": [
    "function romberg(t::Array{Float64,1})\n",
    "    n = length(t) #funkcja obliczająca pole metodą Romberga\n",
    "    et = zeros(n,n)\n",
    "    et[:,1] = t\n",
    "    for i = 2:n\n",
    "        m = 2\n",
    "        for j = 2:i\n",
    "            r = 2^m\n",
    "            et[i,j] = (r*et[i,j-1] - et[i-1,j-1])/(r - 1);\n",
    "            m = m+2\n",
    "         end\n",
    "    end\n",
    "    return et\n",
    "end"
   ]
  },
  {
   "cell_type": "code",
   "execution_count": 12,
   "metadata": {},
   "outputs": [
    {
     "data": {
      "text/plain": [
       "printMatrix (generic function with 2 methods)"
      ]
     },
     "execution_count": 12,
     "metadata": {},
     "output_type": "execute_result"
    }
   ],
   "source": [
    "function printMatrix(t::Array{Float64,2},exact,size) #funkcja wypisująca macierz błędów\n",
    "    a = 0\n",
    "    for i=1:size\n",
    "        for j=1:size\n",
    "            a+=1\n",
    "            print(t[a]-exact, \" == \" ) \n",
    "        end\n",
    "        println()\n",
    "    end\n",
    "    \n",
    "end"
   ]
  },
  {
   "cell_type": "code",
   "execution_count": 4,
   "metadata": {},
   "outputs": [],
   "source": [
    "#Przyjrzyjmy się funkcji cos(x) na przedziale [0, pi/2]"
   ]
  },
  {
   "cell_type": "code",
   "execution_count": 26,
   "metadata": {},
   "outputs": [
    {
     "data": {
      "application/vnd.plotly.v1+json": {
       "data": [
        {
         "colorbar": {
          "title": ""
         },
         "legendgroup": "y1",
         "line": {
          "color": "rgba(0, 154, 250, 1.000)",
          "dash": "solid",
          "shape": "linear",
          "width": 1
         },
         "mode": "lines",
         "name": "y1",
         "showlegend": true,
         "type": "scatter",
         "x": [
          0,
          0.015340112644426933,
          0.15718160432911563,
          0.24242242858978297,
          0.3144924606585486,
          0.3927807160357447,
          0.46495556277463396,
          0.5423346264010439,
          0.6319858600091139,
          0.7116572965148645,
          0.7815219666990599,
          0.857693210854355,
          0.9343171616249684,
          1.019034737503921,
          1.0996413732821289,
          1.1834535718383798,
          1.254005590649321,
          1.3401416088813418,
          1.4211120065657248,
          1.5508328626745866,
          1.5707963267948966
         ],
         "xaxis": "x",
         "y": [
          1,
          0.9998823427793041,
          0.9876723835796078,
          0.970759307795007,
          0.9509535004943236,
          0.9238482893245887,
          0.8938414913893011,
          0.8565060295332357,
          0.8068559567824899,
          0.7572805531778855,
          0.7098423471956228,
          0.6541839137126157,
          0.5943676990190855,
          0.524188215221818,
          0.4539157030200013,
          0.3777293657553397,
          0.3115185990107541,
          0.22861495145836855,
          0.14912599000546642,
          0.019962138107235735,
          6.123233995736766e-17
         ],
         "yaxis": "y",
         "zmax": null,
         "zmin": null
        }
       ],
       "layout": {
        "annotations": [],
        "height": 400,
        "legend": {
         "bgcolor": "rgba(255, 255, 255, 1.000)",
         "bordercolor": "rgba(0, 0, 0, 1.000)",
         "borderwidth": 1,
         "font": {
          "color": "rgba(0, 0, 0, 1.000)",
          "family": "sans-serif",
          "size": 11
         },
         "tracegroupgap": 0,
         "traceorder": "normal",
         "x": 1,
         "xanchor": "auto",
         "y": 1,
         "yanchor": "auto"
        },
        "margin": {
         "b": 20,
         "l": 0,
         "r": 0,
         "t": 20
        },
        "paper_bgcolor": "rgba(255, 255, 255, 1.000)",
        "plot_bgcolor": "rgba(255, 255, 255, 1.000)",
        "showlegend": true,
        "width": 600,
        "xaxis": {
         "anchor": "y",
         "domain": [
          0.0658209390492855,
          0.9934383202099738
         ],
         "gridcolor": "rgba(0, 0, 0, 0.100)",
         "gridwidth": 0.5,
         "linecolor": "rgba(0, 0, 0, 1.000)",
         "mirror": false,
         "range": [
          -0.047123889803846894,
          1.6179202165987434
         ],
         "showgrid": true,
         "showline": true,
         "showticklabels": true,
         "tickangle": 0,
         "tickcolor": "rgb(0, 0, 0)",
         "tickfont": {
          "color": "rgba(0, 0, 0, 1.000)",
          "family": "sans-serif",
          "size": 11
         },
         "tickmode": "array",
         "ticks": "inside",
         "ticktext": [
          "0.0",
          "0.5",
          "1.0",
          "1.5"
         ],
         "tickvals": [
          0,
          0.5,
          1,
          1.5
         ],
         "title": "",
         "titlefont": {
          "color": "rgba(0, 0, 0, 1.000)",
          "family": "sans-serif",
          "size": 15
         },
         "type": "-",
         "visible": true,
         "zeroline": false,
         "zerolinecolor": "rgba(0, 0, 0, 1.000)"
        },
        "yaxis": {
         "anchor": "x",
         "domain": [
          0.03762029746281716,
          0.9901574803149606
         ],
         "gridcolor": "rgba(0, 0, 0, 0.100)",
         "gridwidth": 0.5,
         "linecolor": "rgba(0, 0, 0, 1.000)",
         "mirror": false,
         "range": [
          -0.029999999999999933,
          1.03
         ],
         "showgrid": true,
         "showline": true,
         "showticklabels": true,
         "tickangle": 0,
         "tickcolor": "rgb(0, 0, 0)",
         "tickfont": {
          "color": "rgba(0, 0, 0, 1.000)",
          "family": "sans-serif",
          "size": 11
         },
         "tickmode": "array",
         "ticks": "inside",
         "ticktext": [
          "0.00",
          "0.25",
          "0.50",
          "0.75",
          "1.00"
         ],
         "tickvals": [
          0,
          0.25,
          0.5,
          0.75,
          1
         ],
         "title": "",
         "titlefont": {
          "color": "rgba(0, 0, 0, 1.000)",
          "family": "sans-serif",
          "size": 15
         },
         "type": "-",
         "visible": true,
         "zeroline": false,
         "zerolinecolor": "rgba(0, 0, 0, 1.000)"
        }
       }
      },
      "text/html": [
       "<!DOCTYPE html>\n",
       "<html>\n",
       "    <head>\n",
       "        <title>Plots.jl</title>\n",
       "        <meta http-equiv=\"content-type\" content=\"text/html; charset=UTF-8\">\n",
       "        <script src=\"https://cdn.plot.ly/plotly-1.54.2.min.js\"></script>\n",
       "    </head>\n",
       "    <body>\n",
       "            <div id=\"91d9c252-f5ef-4a19-a98f-613145b528fd\" style=\"width:600px;height:400px;\"></div>\n",
       "    <script>\n",
       "    PLOT = document.getElementById('91d9c252-f5ef-4a19-a98f-613145b528fd');\n",
       "    Plotly.plot(PLOT, [\n",
       "    {\n",
       "        \"xaxis\": \"x\",\n",
       "        \"colorbar\": {\n",
       "            \"title\": \"\"\n",
       "        },\n",
       "        \"yaxis\": \"y\",\n",
       "        \"x\": [\n",
       "            0.0,\n",
       "            0.015340112644426933,\n",
       "            0.15718160432911563,\n",
       "            0.24242242858978297,\n",
       "            0.3144924606585486,\n",
       "            0.3927807160357447,\n",
       "            0.46495556277463396,\n",
       "            0.5423346264010439,\n",
       "            0.6319858600091139,\n",
       "            0.7116572965148645,\n",
       "            0.7815219666990599,\n",
       "            0.857693210854355,\n",
       "            0.9343171616249684,\n",
       "            1.019034737503921,\n",
       "            1.0996413732821289,\n",
       "            1.1834535718383798,\n",
       "            1.254005590649321,\n",
       "            1.3401416088813418,\n",
       "            1.4211120065657248,\n",
       "            1.5508328626745866,\n",
       "            1.5707963267948966\n",
       "        ],\n",
       "        \"showlegend\": true,\n",
       "        \"mode\": \"lines\",\n",
       "        \"name\": \"y1\",\n",
       "        \"zmin\": null,\n",
       "        \"legendgroup\": \"y1\",\n",
       "        \"zmax\": null,\n",
       "        \"line\": {\n",
       "            \"color\": \"rgba(0, 154, 250, 1.000)\",\n",
       "            \"shape\": \"linear\",\n",
       "            \"dash\": \"solid\",\n",
       "            \"width\": 1\n",
       "        },\n",
       "        \"y\": [\n",
       "            1.0,\n",
       "            0.9998823427793041,\n",
       "            0.9876723835796078,\n",
       "            0.970759307795007,\n",
       "            0.9509535004943236,\n",
       "            0.9238482893245887,\n",
       "            0.8938414913893011,\n",
       "            0.8565060295332357,\n",
       "            0.8068559567824899,\n",
       "            0.7572805531778855,\n",
       "            0.7098423471956228,\n",
       "            0.6541839137126157,\n",
       "            0.5943676990190855,\n",
       "            0.524188215221818,\n",
       "            0.4539157030200013,\n",
       "            0.3777293657553397,\n",
       "            0.3115185990107541,\n",
       "            0.22861495145836855,\n",
       "            0.14912599000546642,\n",
       "            0.019962138107235735,\n",
       "            6.123233995736766e-17\n",
       "        ],\n",
       "        \"type\": \"scatter\"\n",
       "    }\n",
       "]\n",
       ", {\n",
       "    \"showlegend\": true,\n",
       "    \"xaxis\": {\n",
       "        \"showticklabels\": true,\n",
       "        \"gridwidth\": 0.5,\n",
       "        \"tickvals\": [\n",
       "            0.0,\n",
       "            0.5,\n",
       "            1.0,\n",
       "            1.5\n",
       "        ],\n",
       "        \"visible\": true,\n",
       "        \"ticks\": \"inside\",\n",
       "        \"range\": [\n",
       "            -0.047123889803846894,\n",
       "            1.6179202165987434\n",
       "        ],\n",
       "        \"domain\": [\n",
       "            0.0658209390492855,\n",
       "            0.9934383202099738\n",
       "        ],\n",
       "        \"tickmode\": \"array\",\n",
       "        \"linecolor\": \"rgba(0, 0, 0, 1.000)\",\n",
       "        \"showgrid\": true,\n",
       "        \"title\": \"\",\n",
       "        \"mirror\": false,\n",
       "        \"tickangle\": 0,\n",
       "        \"showline\": true,\n",
       "        \"gridcolor\": \"rgba(0, 0, 0, 0.100)\",\n",
       "        \"titlefont\": {\n",
       "            \"color\": \"rgba(0, 0, 0, 1.000)\",\n",
       "            \"family\": \"sans-serif\",\n",
       "            \"size\": 15\n",
       "        },\n",
       "        \"tickcolor\": \"rgb(0, 0, 0)\",\n",
       "        \"ticktext\": [\n",
       "            \"0.0\",\n",
       "            \"0.5\",\n",
       "            \"1.0\",\n",
       "            \"1.5\"\n",
       "        ],\n",
       "        \"zeroline\": false,\n",
       "        \"type\": \"-\",\n",
       "        \"tickfont\": {\n",
       "            \"color\": \"rgba(0, 0, 0, 1.000)\",\n",
       "            \"family\": \"sans-serif\",\n",
       "            \"size\": 11\n",
       "        },\n",
       "        \"zerolinecolor\": \"rgba(0, 0, 0, 1.000)\",\n",
       "        \"anchor\": \"y\"\n",
       "    },\n",
       "    \"paper_bgcolor\": \"rgba(255, 255, 255, 1.000)\",\n",
       "    \"annotations\": [],\n",
       "    \"height\": 400,\n",
       "    \"margin\": {\n",
       "        \"l\": 0,\n",
       "        \"b\": 20,\n",
       "        \"r\": 0,\n",
       "        \"t\": 20\n",
       "    },\n",
       "    \"plot_bgcolor\": \"rgba(255, 255, 255, 1.000)\",\n",
       "    \"yaxis\": {\n",
       "        \"showticklabels\": true,\n",
       "        \"gridwidth\": 0.5,\n",
       "        \"tickvals\": [\n",
       "            0.0,\n",
       "            0.25,\n",
       "            0.5,\n",
       "            0.75,\n",
       "            1.0\n",
       "        ],\n",
       "        \"visible\": true,\n",
       "        \"ticks\": \"inside\",\n",
       "        \"range\": [\n",
       "            -0.029999999999999933,\n",
       "            1.03\n",
       "        ],\n",
       "        \"domain\": [\n",
       "            0.03762029746281716,\n",
       "            0.9901574803149606\n",
       "        ],\n",
       "        \"tickmode\": \"array\",\n",
       "        \"linecolor\": \"rgba(0, 0, 0, 1.000)\",\n",
       "        \"showgrid\": true,\n",
       "        \"title\": \"\",\n",
       "        \"mirror\": false,\n",
       "        \"tickangle\": 0,\n",
       "        \"showline\": true,\n",
       "        \"gridcolor\": \"rgba(0, 0, 0, 0.100)\",\n",
       "        \"titlefont\": {\n",
       "            \"color\": \"rgba(0, 0, 0, 1.000)\",\n",
       "            \"family\": \"sans-serif\",\n",
       "            \"size\": 15\n",
       "        },\n",
       "        \"tickcolor\": \"rgb(0, 0, 0)\",\n",
       "        \"ticktext\": [\n",
       "            \"0.00\",\n",
       "            \"0.25\",\n",
       "            \"0.50\",\n",
       "            \"0.75\",\n",
       "            \"1.00\"\n",
       "        ],\n",
       "        \"zeroline\": false,\n",
       "        \"type\": \"-\",\n",
       "        \"tickfont\": {\n",
       "            \"color\": \"rgba(0, 0, 0, 1.000)\",\n",
       "            \"family\": \"sans-serif\",\n",
       "            \"size\": 11\n",
       "        },\n",
       "        \"zerolinecolor\": \"rgba(0, 0, 0, 1.000)\",\n",
       "        \"anchor\": \"x\"\n",
       "    },\n",
       "    \"legend\": {\n",
       "        \"yanchor\": \"auto\",\n",
       "        \"xanchor\": \"auto\",\n",
       "        \"bordercolor\": \"rgba(0, 0, 0, 1.000)\",\n",
       "        \"bgcolor\": \"rgba(255, 255, 255, 1.000)\",\n",
       "        \"font\": {\n",
       "            \"color\": \"rgba(0, 0, 0, 1.000)\",\n",
       "            \"family\": \"sans-serif\",\n",
       "            \"size\": 11\n",
       "        },\n",
       "        \"tracegroupgap\": 0,\n",
       "        \"y\": 1.0,\n",
       "        \"borderwidth\": 1,\n",
       "        \"traceorder\": \"normal\",\n",
       "        \"x\": 1.0\n",
       "    },\n",
       "    \"width\": 600\n",
       "}\n",
       ");\n",
       "    </script>\n",
       "\n",
       "    </body>\n",
       "</html>\n"
      ]
     },
     "execution_count": 26,
     "metadata": {},
     "output_type": "execute_result"
    }
   ],
   "source": [
    "plot(cos, 0, pi/2) #wykres funkcji cos(x) na przedziale [0,pi/2]"
   ]
  },
  {
   "cell_type": "code",
   "execution_count": 6,
   "metadata": {},
   "outputs": [
    {
     "data": {
      "text/plain": [
       "([0.7853981633974483, 0.9480594489685199, 0.9871158009727754, 0.9967851718861697, 0.9991966804850723, 0.9997991943200187], 6)"
      ]
     },
     "execution_count": 6,
     "metadata": {},
     "output_type": "execute_result"
    }
   ],
   "source": [
    "exact = quadgk(cos, 0, pi/2)[1] #dokładny wynik całki oznaczone z cos(x) na przedziale [-1,1]\n",
    "n = 6 #ilość iteracji\n",
    "a=2 #zmienna pomocnicza\n",
    "t, nit = compositeTrapezoid(cos,0.0,pi/2,n)"
   ]
  },
  {
   "cell_type": "code",
   "execution_count": 7,
   "metadata": {},
   "outputs": [
    {
     "name": "stdout",
     "output_type": "stream",
     "text": [
      "The composite trapezium rule for cosinus:\n",
      "2 7.8539816339744828e-01  2.15e-01\n",
      "4 9.4805944896851990e-01  5.19e-02\n",
      "8 9.8711580097277540e-01  1.29e-02\n",
      "16 9.9678517188616966e-01  3.21e-03\n",
      "32 9.9919668048507226e-01  8.03e-04\n",
      "64 9.9979919432001874e-01  2.01e-04\n",
      "The number of iterations : 6\n",
      "\n"
     ]
    }
   ],
   "source": [
    "println(\"The composite trapezium rule for cosinus:\") \n",
    "    for i=1:length(t)\n",
    "        strerr = @sprintf(\"%.2e\", abs(exact - t[i]))\n",
    "        strapp = @sprintf(\"%.16e\", t[i])\n",
    "        println(a,\" $strapp  $strerr\")\n",
    "        a*=2\n",
    "    end\n",
    "        print(\"The number of iterations : \")\n",
    "        println(nit)\n",
    "        println()"
   ]
  },
  {
   "cell_type": "code",
   "execution_count": 8,
   "metadata": {},
   "outputs": [
    {
     "name": "stdout",
     "output_type": "stream",
     "text": [
      "Romberg method for cos function:\n"
     ]
    },
    {
     "data": {
      "text/plain": [
       "6×6 Array{Float64,2}:\n",
       " 0.785398  0.0      0.0       0.0  0.0  0.0\n",
       " 0.948059  1.00228  0.0       0.0  0.0  0.0\n",
       " 0.987116  1.00013  0.999992  0.0  0.0  0.0\n",
       " 0.996785  1.00001  1.0       1.0  0.0  0.0\n",
       " 0.999197  1.0      1.0       1.0  1.0  0.0\n",
       " 0.999799  1.0      1.0       1.0  1.0  1.0"
      ]
     },
     "execution_count": 8,
     "metadata": {},
     "output_type": "execute_result"
    }
   ],
   "source": [
    "println(\"Romberg method for cos function:\")\n",
    "romberg(compositeTrapezoid(cos, 0.0, pi/2, n)[1])"
   ]
  },
  {
   "cell_type": "code",
   "execution_count": 14,
   "metadata": {
    "scrolled": true
   },
   "outputs": [
    {
     "name": "stdout",
     "output_type": "stream",
     "text": [
      "Matrix error:\n",
      "-0.21460183660255172 == -0.0519405510314801 == -0.012884199027224597 == -0.003214828113830337 == -0.0008033195149277361 == -0.00020080567998126408 == \n",
      "-1.0 == 0.0022798774922103693 == 0.00013458497419382986 == 8.295523967749574e-6 == 5.166847063531321e-7 == 3.226500089326123e-8 == \n",
      "-1.0 == -1.0 == -8.434527007272763e-6 == -1.237727140779299e-7 == -1.904577717759537e-9 == -2.964606338196063e-11 == \n",
      "-1.0 == -1.0 == -1.0 == 8.144020791078788e-9 == 2.983724378680108e-11 == 1.1479706074624119e-13 == \n",
      "-1.0 == -1.0 == -1.0 == -1.0 == -1.9830803665854546e-12 == -1.7763568394002505e-15 == \n",
      "-1.0 == -1.0 == -1.0 == -1.0 == -1.0 == 2.220446049250313e-16 == \n"
     ]
    }
   ],
   "source": [
    "println(\"Matrix error:\") #macierz błędów metody Romberga\n",
    "printMatrix(romberg(compositeTrapezoid(cos, 0.0, pi/2, n)[1]), exact, 6)"
   ]
  },
  {
   "cell_type": "code",
   "execution_count": 27,
   "metadata": {},
   "outputs": [],
   "source": [
    "#Spójrzmy teraz na funkcje Rungego na przedziale [-1,1]"
   ]
  },
  {
   "cell_type": "code",
   "execution_count": 28,
   "metadata": {},
   "outputs": [
    {
     "data": {
      "text/plain": [
       "RungegFuntion (generic function with 1 method)"
      ]
     },
     "execution_count": 28,
     "metadata": {},
     "output_type": "execute_result"
    }
   ],
   "source": [
    "function RungegFuntion(x) #funkcja Rungego\n",
    "    return 1/(25* x^2 + 1)\n",
    "end"
   ]
  },
  {
   "cell_type": "code",
   "execution_count": 29,
   "metadata": {},
   "outputs": [
    {
     "data": {
      "application/vnd.plotly.v1+json": {
       "data": [
        {
         "colorbar": {
          "title": ""
         },
         "legendgroup": "y1",
         "line": {
          "color": "rgba(0, 154, 250, 1.000)",
          "dash": "solid",
          "shape": "linear",
          "width": 1
         },
         "mode": "lines",
         "name": "y1",
         "showlegend": true,
         "type": "scatter",
         "x": [
          -1,
          -0.9804683619604238,
          -0.7998701656632544,
          -0.6913381773887523,
          -0.5995757625684686,
          -0.5497359112511828,
          -0.49989605993389713,
          -0.45394812543232044,
          -0.4080001909307437,
          -0.3833696699948128,
          -0.358739149058882,
          -0.33410862812295117,
          -0.3094781071870203,
          -0.28094123322099906,
          -0.25240435925497784,
          -0.22386748528895664,
          -0.19533061132293544,
          -0.16997040543669087,
          -0.1446101995504463,
          -0.1192499936642017,
          -0.09388978777795712,
          -0.07165117256335783,
          -0.049412557348758546,
          -0.0382932497414589,
          -0.027173942134159263,
          -0.01605463452685962,
          -0.004935326919559979,
          0.007187703109214885,
          0.019310733137989748,
          0.03143376316676461,
          0.04355679319553948,
          0.055679823224314334,
          0.0678028532530892,
          0.07992588328186406,
          0.09204891331063893,
          0.11643907435938525,
          0.14082923540813155,
          0.1652193964568779,
          0.1896095575056242,
          0.21657599944142028,
          0.24354244137721637,
          0.2705088833130125,
          0.29747532524880854,
          0.32313321430902814,
          0.34879110336924773,
          0.37444899242946733,
          0.4001068814896869,
          0.45346338425619404,
          0.5068198870227011,
          0.5517346971781957,
          0.5966495073336903,
          0.7063212919727282,
          0.809416004257417,
          0.9745817280321198,
          1
         ],
         "xaxis": "x",
         "y": [
          0.038461538461538464,
          0.03994734106325983,
          0.05884150359449869,
          0.07722775891986576,
          0.10012738830645612,
          0.11688743757895442,
          0.13798048348240263,
          0.16255609670765234,
          0.19373822950091152,
          0.21393542878627814,
          0.23711603768286524,
          0.26380251808156435,
          0.2946013590347598,
          0.336338018767323,
          0.3856984534243911,
          0.44386913594351257,
          0.5118097036178259,
          0.5806363126562478,
          0.6566838699583735,
          0.7377275201593693,
          0.8194153544338916,
          0.8862519833887286,
          0.9424715190672456,
          0.9646370571976748,
          0.9818740374723359,
          0.9935974742370571,
          0.9993914342826798,
          0.9987100891194404,
          0.9907634979515042,
          0.9758934443510366,
          0.95471786910344,
          0.9280690195913227,
          0.8969167540705226,
          0.86228924290948,
          0.8252016170884897,
          0.7468530687177962,
          0.6685288141725143,
          0.5943761704914164,
          0.5266499051995003,
          0.4602718454620675,
          0.4027673307473901,
          0.35343477114982724,
          0.3113044713380672,
          0.2769793958452104,
          0.24744017909173877,
          0.22196074268695343,
          0.19991451993442708,
          0.1628471937185254,
          0.13474074629335234,
          0.11614024973403757,
          0.10101248995509682,
          0.07422668310443208,
          0.05754118451731879,
          0.040411814795740346,
          0.038461538461538464
         ],
         "yaxis": "y",
         "zmax": null,
         "zmin": null
        }
       ],
       "layout": {
        "annotations": [],
        "height": 400,
        "legend": {
         "bgcolor": "rgba(255, 255, 255, 1.000)",
         "bordercolor": "rgba(0, 0, 0, 1.000)",
         "borderwidth": 1,
         "font": {
          "color": "rgba(0, 0, 0, 1.000)",
          "family": "sans-serif",
          "size": 11
         },
         "tracegroupgap": 0,
         "traceorder": "normal",
         "x": 1,
         "xanchor": "auto",
         "y": 1,
         "yanchor": "auto"
        },
        "margin": {
         "b": 20,
         "l": 0,
         "r": 0,
         "t": 20
        },
        "paper_bgcolor": "rgba(255, 255, 255, 1.000)",
        "plot_bgcolor": "rgba(255, 255, 255, 1.000)",
        "showlegend": true,
        "width": 600,
        "xaxis": {
         "anchor": "y",
         "domain": [
          0.05100612423447069,
          0.9934383202099737
         ],
         "gridcolor": "rgba(0, 0, 0, 0.100)",
         "gridwidth": 0.5,
         "linecolor": "rgba(0, 0, 0, 1.000)",
         "mirror": false,
         "range": [
          -1.06,
          1.06
         ],
         "showgrid": true,
         "showline": true,
         "showticklabels": true,
         "tickangle": 0,
         "tickcolor": "rgb(0, 0, 0)",
         "tickfont": {
          "color": "rgba(0, 0, 0, 1.000)",
          "family": "sans-serif",
          "size": 11
         },
         "tickmode": "array",
         "ticks": "inside",
         "ticktext": [
          "−1.0",
          "−0.5",
          "0.0",
          "0.5",
          "1.0"
         ],
         "tickvals": [
          -1,
          -0.5,
          0,
          0.5,
          1
         ],
         "title": "",
         "titlefont": {
          "color": "rgba(0, 0, 0, 1.000)",
          "family": "sans-serif",
          "size": 15
         },
         "type": "-",
         "visible": true,
         "zeroline": false,
         "zerolinecolor": "rgba(0, 0, 0, 1.000)"
        },
        "yaxis": {
         "anchor": "x",
         "domain": [
          0.03762029746281716,
          0.9901574803149606
         ],
         "gridcolor": "rgba(0, 0, 0, 0.100)",
         "gridwidth": 0.5,
         "linecolor": "rgba(0, 0, 0, 1.000)",
         "mirror": false,
         "range": [
          0.009633641586904221,
          1.028219331157314
         ],
         "showgrid": true,
         "showline": true,
         "showticklabels": true,
         "tickangle": 0,
         "tickcolor": "rgb(0, 0, 0)",
         "tickfont": {
          "color": "rgba(0, 0, 0, 1.000)",
          "family": "sans-serif",
          "size": 11
         },
         "tickmode": "array",
         "ticks": "inside",
         "ticktext": [
          "0.2",
          "0.4",
          "0.6",
          "0.8",
          "1.0"
         ],
         "tickvals": [
          0.2,
          0.4,
          0.6000000000000001,
          0.8,
          1
         ],
         "title": "",
         "titlefont": {
          "color": "rgba(0, 0, 0, 1.000)",
          "family": "sans-serif",
          "size": 15
         },
         "type": "-",
         "visible": true,
         "zeroline": false,
         "zerolinecolor": "rgba(0, 0, 0, 1.000)"
        }
       }
      },
      "text/html": [
       "<!DOCTYPE html>\n",
       "<html>\n",
       "    <head>\n",
       "        <title>Plots.jl</title>\n",
       "        <meta http-equiv=\"content-type\" content=\"text/html; charset=UTF-8\">\n",
       "        <script src=\"https://cdn.plot.ly/plotly-1.54.2.min.js\"></script>\n",
       "    </head>\n",
       "    <body>\n",
       "            <div id=\"7941c7cf-cb4d-4671-b20d-ee8cfc1ff7b5\" style=\"width:600px;height:400px;\"></div>\n",
       "    <script>\n",
       "    PLOT = document.getElementById('7941c7cf-cb4d-4671-b20d-ee8cfc1ff7b5');\n",
       "    Plotly.plot(PLOT, [\n",
       "    {\n",
       "        \"xaxis\": \"x\",\n",
       "        \"colorbar\": {\n",
       "            \"title\": \"\"\n",
       "        },\n",
       "        \"yaxis\": \"y\",\n",
       "        \"x\": [\n",
       "            -1.0,\n",
       "            -0.9804683619604238,\n",
       "            -0.7998701656632544,\n",
       "            -0.6913381773887523,\n",
       "            -0.5995757625684686,\n",
       "            -0.5497359112511828,\n",
       "            -0.49989605993389713,\n",
       "            -0.45394812543232044,\n",
       "            -0.4080001909307437,\n",
       "            -0.3833696699948128,\n",
       "            -0.358739149058882,\n",
       "            -0.33410862812295117,\n",
       "            -0.3094781071870203,\n",
       "            -0.28094123322099906,\n",
       "            -0.25240435925497784,\n",
       "            -0.22386748528895664,\n",
       "            -0.19533061132293544,\n",
       "            -0.16997040543669087,\n",
       "            -0.1446101995504463,\n",
       "            -0.1192499936642017,\n",
       "            -0.09388978777795712,\n",
       "            -0.07165117256335783,\n",
       "            -0.049412557348758546,\n",
       "            -0.0382932497414589,\n",
       "            -0.027173942134159263,\n",
       "            -0.01605463452685962,\n",
       "            -0.004935326919559979,\n",
       "            0.007187703109214885,\n",
       "            0.019310733137989748,\n",
       "            0.03143376316676461,\n",
       "            0.04355679319553948,\n",
       "            0.055679823224314334,\n",
       "            0.0678028532530892,\n",
       "            0.07992588328186406,\n",
       "            0.09204891331063893,\n",
       "            0.11643907435938525,\n",
       "            0.14082923540813155,\n",
       "            0.1652193964568779,\n",
       "            0.1896095575056242,\n",
       "            0.21657599944142028,\n",
       "            0.24354244137721637,\n",
       "            0.2705088833130125,\n",
       "            0.29747532524880854,\n",
       "            0.32313321430902814,\n",
       "            0.34879110336924773,\n",
       "            0.37444899242946733,\n",
       "            0.4001068814896869,\n",
       "            0.45346338425619404,\n",
       "            0.5068198870227011,\n",
       "            0.5517346971781957,\n",
       "            0.5966495073336903,\n",
       "            0.7063212919727282,\n",
       "            0.809416004257417,\n",
       "            0.9745817280321198,\n",
       "            1.0\n",
       "        ],\n",
       "        \"showlegend\": true,\n",
       "        \"mode\": \"lines\",\n",
       "        \"name\": \"y1\",\n",
       "        \"zmin\": null,\n",
       "        \"legendgroup\": \"y1\",\n",
       "        \"zmax\": null,\n",
       "        \"line\": {\n",
       "            \"color\": \"rgba(0, 154, 250, 1.000)\",\n",
       "            \"shape\": \"linear\",\n",
       "            \"dash\": \"solid\",\n",
       "            \"width\": 1\n",
       "        },\n",
       "        \"y\": [\n",
       "            0.038461538461538464,\n",
       "            0.03994734106325983,\n",
       "            0.05884150359449869,\n",
       "            0.07722775891986576,\n",
       "            0.10012738830645612,\n",
       "            0.11688743757895442,\n",
       "            0.13798048348240263,\n",
       "            0.16255609670765234,\n",
       "            0.19373822950091152,\n",
       "            0.21393542878627814,\n",
       "            0.23711603768286524,\n",
       "            0.26380251808156435,\n",
       "            0.2946013590347598,\n",
       "            0.336338018767323,\n",
       "            0.3856984534243911,\n",
       "            0.44386913594351257,\n",
       "            0.5118097036178259,\n",
       "            0.5806363126562478,\n",
       "            0.6566838699583735,\n",
       "            0.7377275201593693,\n",
       "            0.8194153544338916,\n",
       "            0.8862519833887286,\n",
       "            0.9424715190672456,\n",
       "            0.9646370571976748,\n",
       "            0.9818740374723359,\n",
       "            0.9935974742370571,\n",
       "            0.9993914342826798,\n",
       "            0.9987100891194404,\n",
       "            0.9907634979515042,\n",
       "            0.9758934443510366,\n",
       "            0.95471786910344,\n",
       "            0.9280690195913227,\n",
       "            0.8969167540705226,\n",
       "            0.86228924290948,\n",
       "            0.8252016170884897,\n",
       "            0.7468530687177962,\n",
       "            0.6685288141725143,\n",
       "            0.5943761704914164,\n",
       "            0.5266499051995003,\n",
       "            0.4602718454620675,\n",
       "            0.4027673307473901,\n",
       "            0.35343477114982724,\n",
       "            0.3113044713380672,\n",
       "            0.2769793958452104,\n",
       "            0.24744017909173877,\n",
       "            0.22196074268695343,\n",
       "            0.19991451993442708,\n",
       "            0.1628471937185254,\n",
       "            0.13474074629335234,\n",
       "            0.11614024973403757,\n",
       "            0.10101248995509682,\n",
       "            0.07422668310443208,\n",
       "            0.05754118451731879,\n",
       "            0.040411814795740346,\n",
       "            0.038461538461538464\n",
       "        ],\n",
       "        \"type\": \"scatter\"\n",
       "    }\n",
       "]\n",
       ", {\n",
       "    \"showlegend\": true,\n",
       "    \"xaxis\": {\n",
       "        \"showticklabels\": true,\n",
       "        \"gridwidth\": 0.5,\n",
       "        \"tickvals\": [\n",
       "            -1.0,\n",
       "            -0.5,\n",
       "            0.0,\n",
       "            0.5,\n",
       "            1.0\n",
       "        ],\n",
       "        \"visible\": true,\n",
       "        \"ticks\": \"inside\",\n",
       "        \"range\": [\n",
       "            -1.06,\n",
       "            1.06\n",
       "        ],\n",
       "        \"domain\": [\n",
       "            0.05100612423447069,\n",
       "            0.9934383202099737\n",
       "        ],\n",
       "        \"tickmode\": \"array\",\n",
       "        \"linecolor\": \"rgba(0, 0, 0, 1.000)\",\n",
       "        \"showgrid\": true,\n",
       "        \"title\": \"\",\n",
       "        \"mirror\": false,\n",
       "        \"tickangle\": 0,\n",
       "        \"showline\": true,\n",
       "        \"gridcolor\": \"rgba(0, 0, 0, 0.100)\",\n",
       "        \"titlefont\": {\n",
       "            \"color\": \"rgba(0, 0, 0, 1.000)\",\n",
       "            \"family\": \"sans-serif\",\n",
       "            \"size\": 15\n",
       "        },\n",
       "        \"tickcolor\": \"rgb(0, 0, 0)\",\n",
       "        \"ticktext\": [\n",
       "            \"−1.0\",\n",
       "            \"−0.5\",\n",
       "            \"0.0\",\n",
       "            \"0.5\",\n",
       "            \"1.0\"\n",
       "        ],\n",
       "        \"zeroline\": false,\n",
       "        \"type\": \"-\",\n",
       "        \"tickfont\": {\n",
       "            \"color\": \"rgba(0, 0, 0, 1.000)\",\n",
       "            \"family\": \"sans-serif\",\n",
       "            \"size\": 11\n",
       "        },\n",
       "        \"zerolinecolor\": \"rgba(0, 0, 0, 1.000)\",\n",
       "        \"anchor\": \"y\"\n",
       "    },\n",
       "    \"paper_bgcolor\": \"rgba(255, 255, 255, 1.000)\",\n",
       "    \"annotations\": [],\n",
       "    \"height\": 400,\n",
       "    \"margin\": {\n",
       "        \"l\": 0,\n",
       "        \"b\": 20,\n",
       "        \"r\": 0,\n",
       "        \"t\": 20\n",
       "    },\n",
       "    \"plot_bgcolor\": \"rgba(255, 255, 255, 1.000)\",\n",
       "    \"yaxis\": {\n",
       "        \"showticklabels\": true,\n",
       "        \"gridwidth\": 0.5,\n",
       "        \"tickvals\": [\n",
       "            0.2,\n",
       "            0.4,\n",
       "            0.6000000000000001,\n",
       "            0.8,\n",
       "            1.0\n",
       "        ],\n",
       "        \"visible\": true,\n",
       "        \"ticks\": \"inside\",\n",
       "        \"range\": [\n",
       "            0.009633641586904221,\n",
       "            1.028219331157314\n",
       "        ],\n",
       "        \"domain\": [\n",
       "            0.03762029746281716,\n",
       "            0.9901574803149606\n",
       "        ],\n",
       "        \"tickmode\": \"array\",\n",
       "        \"linecolor\": \"rgba(0, 0, 0, 1.000)\",\n",
       "        \"showgrid\": true,\n",
       "        \"title\": \"\",\n",
       "        \"mirror\": false,\n",
       "        \"tickangle\": 0,\n",
       "        \"showline\": true,\n",
       "        \"gridcolor\": \"rgba(0, 0, 0, 0.100)\",\n",
       "        \"titlefont\": {\n",
       "            \"color\": \"rgba(0, 0, 0, 1.000)\",\n",
       "            \"family\": \"sans-serif\",\n",
       "            \"size\": 15\n",
       "        },\n",
       "        \"tickcolor\": \"rgb(0, 0, 0)\",\n",
       "        \"ticktext\": [\n",
       "            \"0.2\",\n",
       "            \"0.4\",\n",
       "            \"0.6\",\n",
       "            \"0.8\",\n",
       "            \"1.0\"\n",
       "        ],\n",
       "        \"zeroline\": false,\n",
       "        \"type\": \"-\",\n",
       "        \"tickfont\": {\n",
       "            \"color\": \"rgba(0, 0, 0, 1.000)\",\n",
       "            \"family\": \"sans-serif\",\n",
       "            \"size\": 11\n",
       "        },\n",
       "        \"zerolinecolor\": \"rgba(0, 0, 0, 1.000)\",\n",
       "        \"anchor\": \"x\"\n",
       "    },\n",
       "    \"legend\": {\n",
       "        \"yanchor\": \"auto\",\n",
       "        \"xanchor\": \"auto\",\n",
       "        \"bordercolor\": \"rgba(0, 0, 0, 1.000)\",\n",
       "        \"bgcolor\": \"rgba(255, 255, 255, 1.000)\",\n",
       "        \"font\": {\n",
       "            \"color\": \"rgba(0, 0, 0, 1.000)\",\n",
       "            \"family\": \"sans-serif\",\n",
       "            \"size\": 11\n",
       "        },\n",
       "        \"tracegroupgap\": 0,\n",
       "        \"y\": 1.0,\n",
       "        \"borderwidth\": 1,\n",
       "        \"traceorder\": \"normal\",\n",
       "        \"x\": 1.0\n",
       "    },\n",
       "    \"width\": 600\n",
       "}\n",
       ");\n",
       "    </script>\n",
       "\n",
       "    </body>\n",
       "</html>\n"
      ]
     },
     "execution_count": 29,
     "metadata": {},
     "output_type": "execute_result"
    }
   ],
   "source": [
    "plot(RungegFuntion, -1.0, 1.0)"
   ]
  },
  {
   "cell_type": "code",
   "execution_count": 32,
   "metadata": {},
   "outputs": [
    {
     "data": {
      "text/plain": [
       "([0.07692307692307693, 1.0384615384615385, 0.6571618037135278, 0.556897873823164, 0.5492223236087935, 0.5493121884509602, 0.5493482703713577, 0.5493572972853309, 0.5493595543803858, 0.5493601186770729], 10)"
      ]
     },
     "execution_count": 32,
     "metadata": {},
     "output_type": "execute_result"
    }
   ],
   "source": [
    "exact = quadgk(RungegFuntion, -1, 1)[1] #dokłdadny wynik całki oznaczonej na przedziale [-1,1] funkcji Rungego\n",
    "n = 10 #ilość iteracji\n",
    "a=2 #zmienna pomocnicza\n",
    "t, nit = compositeTrapezoid(RungegFuntion,-1.0,1.0,n)"
   ]
  },
  {
   "cell_type": "code",
   "execution_count": 39,
   "metadata": {},
   "outputs": [
    {
     "name": "stdout",
     "output_type": "stream",
     "text": [
      "The composite trapezium rule for RungegFuntion:\n",
      "2048 7.6923076923076927e-02  4.72e-01\n",
      "4096 1.0384615384615385e+00  4.89e-01\n",
      "8192 6.5716180371352784e-01  1.08e-01\n",
      "16384 5.5689787382316402e-01  7.54e-03\n",
      "32768 5.4922232360879353e-01  1.38e-04\n",
      "65536 5.4931218845096019e-01  4.81e-05\n",
      "131072 5.4934827037135769e-01  1.20e-05\n",
      "262144 5.4935729728533089e-01  3.01e-06\n",
      "524288 5.4935955438038575e-01  7.52e-07\n",
      "1048576 5.4936011867707291e-01  1.88e-07\n",
      "The number of iterations : 10\n"
     ]
    }
   ],
   "source": [
    "println(\"The composite trapezium rule for RungegFuntion:\")\n",
    "for i=1:length(t)\n",
    "        strerr = @sprintf(\"%.2e\", abs(exact - t[i]))\n",
    "        strapp = @sprintf(\"%.16e\", t[i])\n",
    "        println(a,\" $strapp  $strerr\")\n",
    "        a*=2\n",
    "    end\n",
    "        print(\"The number of iterations : \")\n",
    "        println(nit)"
   ]
  },
  {
   "cell_type": "code",
   "execution_count": 37,
   "metadata": {},
   "outputs": [
    {
     "name": "stdout",
     "output_type": "stream",
     "text": [
      "Romberg method for Rungeg function:\n"
     ]
    },
    {
     "data": {
      "text/plain": [
       "10×10 Array{Float64,2}:\n",
       " 0.0769231  0.0       0.0       …  0.0       0.0      0.0      0.0\n",
       " 1.03846    1.35897   0.0          0.0       0.0      0.0      0.0\n",
       " 0.657162   0.530062  0.474801     0.0       0.0      0.0      0.0\n",
       " 0.556898   0.523477  0.523038     0.0       0.0      0.0      0.0\n",
       " 0.549222   0.546664  0.54821      0.0       0.0      0.0      0.0\n",
       " 0.549312   0.549342  0.549521  …  0.0       0.0      0.0      0.0\n",
       " 0.549348   0.54936   0.549362     0.549358  0.0      0.0      0.0\n",
       " 0.549357   0.54936   0.54936      0.54936   0.54936  0.0      0.0\n",
       " 0.54936    0.54936   0.54936      0.54936   0.54936  0.54936  0.0\n",
       " 0.54936    0.54936   0.54936      0.54936   0.54936  0.54936  0.54936"
      ]
     },
     "execution_count": 37,
     "metadata": {},
     "output_type": "execute_result"
    }
   ],
   "source": [
    "println(\"Romberg method for Rungeg function:\")\n",
    "romberg(compositeTrapezoid(RungegFuntion, -1.0, 1.0, n)[1])"
   ]
  },
  {
   "cell_type": "code",
   "execution_count": 38,
   "metadata": {},
   "outputs": [
    {
     "name": "stdout",
     "output_type": "stream",
     "text": [
      "Matrix error:\n",
      "-0.4724372298549295 == 0.48910123168353214 == 0.10780149693552143 == 0.007537567045157623 == -0.00013798316921287412 == -4.811832704620933e-5 == -1.2036406648707754e-5 == -3.0094926755097617e-6 == -7.523976206513794e-7 == -1.8810093349586055e-7 == \n",
      "-0.5493603067780064 == 0.8096140521963529 == -0.019298414647148765 == -0.02588374291829698 == -0.002696499907336336 == -1.8163379657321066e-5 == -9.099849540561422e-9 == -5.213510734236593e-10 == -3.26023652519325e-11 == -2.037814361699475e-12 == \n",
      "-0.5493603067780064 == -0.5493603067780064 == -0.07455924577004891 == -0.02632276480304019 == -0.0011506837066056486 == 0.00016039238885456886 == 1.2011854709781389e-6 == 5.0548787378090765e-11 == -1.9095836023552692e-14 == -2.220446049250313e-16 == \n",
      "-0.5493603067780064 == -0.5493603067780064 == -0.5493603067780064 == -0.025557106374992422 == -0.0007511268638050739 == 0.00018120312052849474 == -1.3256590272181512e-6 == -1.9015084840035e-8 == -8.217870828275409e-13 == 1.1102230246251565e-16 == \n",
      "-0.5493603067780064 == -0.5493603067780064 == -0.5493603067780064 == -0.5493603067780064 == -0.0006538485127808302 == 0.0001848593165455492 == -2.0414581627381523e-6 == -1.3890991024112509e-8 == 7.374401089776939e-11 == 3.3306690738754696e-15 == \n",
      "-0.5493603067780064 == -0.5493603067780064 == -0.5493603067780064 == -0.5493603067780064 == -0.5493603067780064 == 0.0001856791677961045 == -2.2241568672365375e-6 == -1.1909009445254526e-8 == 8.7394758097048e-11 == -6.88338275267597e-14 == \n",
      "-0.5493603067780064 == -0.5493603067780064 == -0.5493603067780064 == -0.5493603067780064 == -0.5493603067780064 == -0.5493603067780064 == -2.2700429049837823e-6 == -1.1368777919074091e-8 == 9.03243035921264e-11 == -9.015010959956271e-14 == \n",
      "-0.5493603067780064 == -0.5493603067780064 == -0.5493603067780064 == -0.5493603067780064 == -0.5493603067780064 == -0.5493603067780064 == -0.5493603067780064 == -1.1230910978987652e-8 == 9.102385511994271e-11 == -9.57012247226885e-14 == \n",
      "-0.5493603067780064 == -0.5493603067780064 == -0.5493603067780064 == -0.5493603067780064 == -0.5493603067780064 == -0.5493603067780064 == -0.5493603067780064 == -0.5493603067780064 == 9.119660582257438e-11 == -9.703349235223868e-14 == \n",
      "-0.5493603067780064 == -0.5493603067780064 == -0.5493603067780064 == -0.5493603067780064 == -0.5493603067780064 == -0.5493603067780064 == -0.5493603067780064 == -0.5493603067780064 == -0.5493603067780064 == -9.736655925962623e-14 == \n"
     ]
    }
   ],
   "source": [
    "println(\"Matrix error:\")\n",
    "printMatrix(romberg(compositeTrapezoid(RungegFuntion, -1.0, 1.0, n)[1]), exact)"
   ]
  }
 ],
 "metadata": {
  "kernelspec": {
   "display_name": "Julia 1.5.2",
   "language": "julia",
   "name": "julia-1.5"
  },
  "language_info": {
   "file_extension": ".jl",
   "mimetype": "application/julia",
   "name": "julia",
   "version": "1.5.2"
  }
 },
 "nbformat": 4,
 "nbformat_minor": 4
}
